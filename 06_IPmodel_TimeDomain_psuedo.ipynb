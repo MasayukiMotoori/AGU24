{
 "cells": [
  {
   "cell_type": "code",
   "execution_count": null,
   "metadata": {},
   "outputs": [],
   "source": [
    "# General scientific libraries\n",
    "import numpy as np\n",
    "import matplotlib.pyplot as plt\n",
    "import matplotlib.ticker as ticker\n",
    "from matplotlib.colors import LogNorm, LinearSegmentedColormap, Normalize, SymLogNorm\n",
    "from matplotlib import cm as colormap\n",
    "import time\n",
    "from string import ascii_lowercase\n",
    "from scipy import signal\n",
    "from scipy import fftpack\n",
    "from scipy.constants import mu_0, epsilon_0\n",
    "# Machine Epssilon for float\n",
    "import ipywidgets\n",
    "import time\n",
    "import os\n",
    "eps = np.finfo(float).eps"
   ]
  },
  {
   "cell_type": "code",
   "execution_count": 2,
   "metadata": {},
   "outputs": [],
   "source": [
    "from masa_utils import PsuedoLog\n",
    "from masa_utils import InducedPolarization\n",
    "# FFT with various c"
   ]
  },
  {
   "cell_type": "code",
   "execution_count": 3,
   "metadata": {},
   "outputs": [],
   "source": [
    "def plot_pelton(freq,res0=None, con8=None, eta=0.1, tau=1e-3, c=0.8, ax=None):\n",
    "    # Assuming `cc` is your complex array, `freq` is the frequency array, and `tau` is defined\n",
    "    if ax is None:\n",
    "        fig, ax = plt.subplots(2, 1, figsize=(8, 6))\n",
    "    if res0 is None and con8 is None:\n",
    "        raise ValueError('Error: either res0 or con8 must be set')\n",
    "    elif res0 is not None and con8 is not None:\n",
    "        raise ValueError('Error: both sigma0 or sigmaInf are set')\n",
    "    PL_pelton = PsuedoLog(\n",
    "                logmin=1e-7,\n",
    "                linScale=0.2,\n",
    "                logminx=10.**np.floor(np.log10(freq[1])),\n",
    "                linScalex=0.2)\n",
    "    IPmodel_f = InducedPolarization(con8=con8, res0=res0, eta=eta, tau=tau, c=c)\n",
    "    if con8 is None:\n",
    "        fft_f = IPmodel_f.pelton_res_f(freq, res0, eta, tau, c)\n",
    "        ax[0].set_title(f''' Resistivity form\n",
    "            res0={res0:10.2e}, eta={eta:8.3f}, tau={tau:10.2e}, c={c:8.3f}''')\n",
    "    if res0 is None:\n",
    "        fft_f = IPmodel_f.pelton_con_f(freq, con8, eta, tau, c)\n",
    "        ax[0].set_title(f''' Conductivity form\n",
    "             con8={con8:10.2e}, eta={eta:8.3f}, tau={tau:10.2e}, c={c:8.3f}''')\n",
    "    ax[0] = PL_pelton.semiplx(x=freq, y=fft_f.real, ax=ax[0], yscale_log=False,\n",
    "                              label='Real', color=\"C0\")\n",
    "    ax[0] = PL_pelton.semiplx(x=freq, y=-fft_f.imag, ax=ax[0], yscale_log=False,\n",
    "                              label='Imaginary', color=\"C1\")\n",
    "    ax[0] = PL_pelton.semiplx(x=freq, y=np.abs(fft_f), ax=ax[0], yscale_log=False,\n",
    "                              label='Absolute Value', color=\"C2\")\n",
    "    PL_pelton.pl_axes_x(ax=ax[0])\n",
    "    ax[1] = PL_pelton.semiplx(x=freq, y=np.degrees(np.angle(fft_f)), ax=ax[1], yscale_log=False,\n",
    "                              label='Phase (degrees)', color=\"C0\")\n",
    "    PL_pelton.pl_axes_x(ax=ax[1])\n",
    "\n",
    "   # Shared x-axis label and vertical line\n",
    "    for a in ax:\n",
    "        a = PL_pelton.pl_axvline(ax=a, x=1/tau,label=r'$1/\\tau$')\n",
    "#        a = PL_pelton.pl_axvline(ax=a, x=1/tau/2/np.pi,label=r'$1/\\tau $')\n",
    "        a.set_xlabel('Frequency [Hz]')\n",
    "        a.set_ylabel('Amplitude')\n",
    "        a.grid(which='both')\n",
    "        a.legend()\n",
    "    ax[1].set_ylabel('Phase [Degrees]')\n",
    "    return ax "
   ]
  },
  {
   "cell_type": "code",
   "execution_count": 4,
   "metadata": {},
   "outputs": [],
   "source": [
    "res0min, res0max = 1.0e-3, 1.0e6\n",
    "log10res0min, log10res0max = np.log10(res0min), np.log10(res0max)\n",
    "con8min, con8max = 1.0e-6, 1.0e3\n",
    "log10con8min, log10con8max = np.log10(con8min), np.log10(con8max)\n",
    "etamin, etamax = 0, 0.99\n",
    "taumin, taumax = 1.0e-6, 1.0\n",
    "log10taumin, log10taumax = np.log10(taumin), np.log10(taumax)\n",
    "cmin, cmax = 0., 1.0\n",
    "res0_default, eta_default, tau_default, c_default = 200, 0.5,  0.1, 1.\n",
    "con8_default = 1 / (res0_default * (1 - eta_default))\n"
   ]
  },
  {
   "cell_type": "code",
   "execution_count": 5,
   "metadata": {},
   "outputs": [
    {
     "data": {
      "application/vnd.jupyter.widget-view+json": {
       "model_id": "9b5683d75c794cf1bb001e5fcfb7b0a7",
       "version_major": 2,
       "version_minor": 0
      },
      "text/plain": [
       "interactive(children=(ToggleButtons(button_style='info', description='Mode:', options=('Resistivity', 'Conduct…"
      ]
     },
     "execution_count": 5,
     "metadata": {},
     "output_type": "execute_result"
    }
   ],
   "source": [
    "#  Widget for the main function\n",
    "def plot_colecole_widget(conductivity_or_resistivity, res0=None, con8=None, eta=None, tau=None, c=None):\n",
    "    fig, ax = plt.subplots(2, 1, figsize=(8, 6))\n",
    "    nfreq = 2**16\n",
    "    freqcen = 1/(tau)\n",
    "    freqend = freqcen * nfreq**0.5\n",
    "    freqstep = freqend/nfreq\n",
    "    freq = np.arange(0,freqend,freqstep) \n",
    "\n",
    "    if conductivity_or_resistivity == \"Resistivity\":\n",
    "        plot_pelton(freq=freq,res0=res0, eta=eta, tau=tau, c=c, ax=ax)\n",
    "    else:\n",
    "        plot_pelton(freq=freq,con8=con8, eta=eta, tau=tau, c=c, ax=ax)\n",
    "    plt.tight_layout()\n",
    "    plt.show()\n",
    "\n",
    "# ToggleButtons for selecting resistivity or conductivity\n",
    "conductivity_or_resistivity = ipywidgets.ToggleButtons(\n",
    "    options=[\"Resistivity\", \"Conductivity\"],\n",
    "    description=\"Mode:\",\n",
    "    disabled=False,\n",
    "    button_style='info',\n",
    ")\n",
    "\n",
    "# Define sliders\n",
    "res0_slider = ipywidgets.FloatLogSlider(base=10, min=log10res0min, max=log10res0max, \n",
    "                                      value=res0_default, description=\"Resistivity (res0)\")\n",
    "con8_slider = ipywidgets.FloatLogSlider(base=10, min=log10con8min, max=log10con8max, \n",
    "                                      value=con8_default, description=\"Conductivity (con8)\")\n",
    "eta_slider = ipywidgets.FloatSlider(min=0, max=1, step=0.01, \n",
    "                                  value=eta_default, description=\"eta\")\n",
    "tau_slider = ipywidgets.FloatLogSlider(base=10, min=log10taumin, max=log10taumax, \n",
    "                                     value=tau_default, description=\"tau\")\n",
    "c_slider = ipywidgets.FloatSlider(min=0, max=1, step=0.01, \n",
    "                                value=c_default, description=\"c\")\n",
    "# Use interactive display based on the toggle selection\n",
    "def update_sliders(mode):\n",
    "    if mode == \"Resistivity\":\n",
    "        display(res0_slider, eta_slider, tau_slider, c_slider)\n",
    "    else:\n",
    "        display(con8_slider, eta_slider, tau_slider, c_slider)\n",
    "\n",
    "ipywidgets.widgets.interactive_output(update_sliders, {'mode': conductivity_or_resistivity})\n",
    "ipywidgets.widgets.interactive(\n",
    "    plot_colecole_widget,\n",
    "    conductivity_or_resistivity=conductivity_or_resistivity,\n",
    "    res0=res0_slider,\n",
    "    con8=con8_slider,\n",
    "    eta=eta_slider,\n",
    "    tau=tau_slider,\n",
    "    c=c_slider,\n",
    ")"
   ]
  },
  {
   "cell_type": "markdown",
   "metadata": {},
   "source": [
    "# FFT with various c"
   ]
  },
  {
   "cell_type": "code",
   "execution_count": 8,
   "metadata": {},
   "outputs": [],
   "source": [
    "def plot_fft(con_form,res0=None, con8=None,log2nfreq=16, eta=0.1, tau=1e-3, c=0.8, ax=None):\n",
    "    # Assuming `cc` is your complex array, `freq` is the frequency array, and `tau` is defined\n",
    "    if ax is None:\n",
    "        fig, ax = plt.subplots(2,1, figsize=(8, 6))\n",
    "\n",
    "    IPmodel_fft = InducedPolarization(con8=con8, res0=res0,eta=eta, tau=tau, c=c)\n",
    "    freq_tau=IPmodel_fft.get_frequency_tau(log2nfreq=log2nfreq)\n",
    "    times_tau, data_tau = IPmodel_fft.pelton_fft(con_form=con_form, freq=freq_tau)\n",
    "    time_step = times_tau[1] - times_tau[0]\n",
    "    data_tau *= time_step\n",
    "    data_tau_intg = np.cumsum(data_tau)\n",
    "\n",
    "    if con_form:\n",
    "        ax[0].set_title(f'''Conductivity multiplied by time step {time_step:.2e}, ntimesetp {len(times_tau)}\n",
    "        con8={con8:10.2e}, eta={eta:8.3f}, tau={tau:10.2e}, c={c:8.3f}''')\n",
    "        ax[1].set_title('Conductivity Integrated over time')\n",
    "    else:\n",
    "        ax[0].set_title(f'''Resistivity multiplied by time step {time_step:.2e}, ntimesetp {len(times_tau)}\n",
    "        res0={res0:10.2e}, eta={eta:8.3f}, tau={tau:10.2e}, c={c:8.3f}''')\n",
    "        ax[1].set_title('Resistivity Integrated over time')\n",
    "\n",
    "    # freq_tau_time =IPmodel_fft.get_frequency_tau_times(times=times_tau)\n",
    "    # times_tau_time, data_tau_time = IPmodel_fft.pelton_fft(con_form=con_form, freq=freq_tau_time)\n",
    "    # timestep = times_tau_time[1] - times_tau_time[0]\n",
    "    # data_tau_time *= timestep\n",
    "    # data_tau_time_intg = np.cumsum(data_tau_time)\n",
    "    # IPmodel_fft.get_windows(times=times_tau)\n",
    "    # window_mat = IPmodel_fft.get_window_matrix(times=times_tau_time)\n",
    "    # window_data = window_mat@data_tau_time\n",
    "    # window_data_intg = window_mat@data_tau_time_intg\n",
    "    # time_step = times_tau[1] - times_tau[0]\n",
    "    PL_fft = PsuedoLog(\n",
    "                logmin=10.**np.floor(np.log10(data_tau[0])-3.),\n",
    "                linScale=0.2,\n",
    "                logminx=10.**np.ceil(np.log10(time_step)),\n",
    "                linScalex=0.2)\n",
    "    ax[0] = PL_fft.plpl_plot(x=np.r_[0,times_tau[0]], y=np.r_[0,data_tau[0]], ax=ax[0], \n",
    "                             label='t=0', color=\"C0\",\n",
    "                             marker='o', markersize=4) \n",
    "    ax[0] = PL_fft.plpl_plot(x=times_tau[1:], y=data_tau[1:], ax=ax[0], \n",
    "                                label='t>0', color=\"C0\") \n",
    "\n",
    "    PL_fft.pl_axes(ax=ax[0])\n",
    "    PL_fft.pl_axes_x(ax=ax[0])\n",
    "    ax[1] = PL_fft.semiplx(x=times_tau, y=data_tau_intg, ax=ax[1], yscale_log=False,\n",
    "                                label='More sampled', color=\"C0\")\n",
    "    PL_fft.pl_axes_x(ax=ax[1])\n",
    "    ax[1].set_ylim(bottom=0)\n",
    "\n",
    "\n",
    "    for a in ax:\n",
    "        a = PL_fft.pl_axvline(ax=a, x=tau,label=r'$\\tau$')\n",
    "        a.set_xlabel('time(sec)')\n",
    "        a.set_ylabel('Amplitude')\n",
    "        a.grid(which='both')\n",
    "        a.legend()\n",
    "    return ax "
   ]
  },
  {
   "cell_type": "code",
   "execution_count": 9,
   "metadata": {},
   "outputs": [],
   "source": [
    "res0_default, eta_default, tau_default, c_default = 0.15, 0.3,  1e-3, 0.8\n",
    "con8_default = 1 / (res0_default * (1 - eta_default))"
   ]
  },
  {
   "cell_type": "code",
   "execution_count": 10,
   "metadata": {},
   "outputs": [
    {
     "data": {
      "application/vnd.jupyter.widget-view+json": {
       "model_id": "9ee9a73c3c2042db8fc89a6e786c06ba",
       "version_major": 2,
       "version_minor": 0
      },
      "text/plain": [
       "interactive(children=(ToggleButtons(button_style='info', description='Mode:', index=1, options=('Resistivity',…"
      ]
     },
     "execution_count": 10,
     "metadata": {},
     "output_type": "execute_result"
    }
   ],
   "source": [
    "#  Widget for the main function\n",
    "def plot_fft_widget(conductivity_or_resistivity, res0=None, con8=None, eta=None, tau=None, c=None):\n",
    "    fig, ax = plt.subplots(2, 1, figsize=(8, 6))\n",
    "    log2nfreq = 11\n",
    "\n",
    "    if conductivity_or_resistivity == \"Resistivity\":\n",
    "        plot_fft(con_form=False,log2nfreq=log2nfreq,res0=res0, eta=eta, tau=tau, c=c, ax=ax)\n",
    "    else:\n",
    "        plot_fft(con_form=True,log2nfreq=log2nfreq,con8=con8, eta=eta, tau=tau, c=c, ax=ax)\n",
    "    plt.tight_layout()\n",
    "    plt.show()\n",
    "\n",
    "# ToggleButtons for selecting resistivity or conductivity\n",
    "conductivity_or_resistivity = ipywidgets.ToggleButtons(\n",
    "    options=[\"Resistivity\", \"Conductivity\"],\n",
    "    description=\"Mode:\",\n",
    "    disabled=False,\n",
    "    button_style='info',\n",
    "    value= \"Conductivity\"\n",
    ")\n",
    "\n",
    "# Define sliders\n",
    "res0_slider = ipywidgets.FloatLogSlider(base=10, min=log10res0min, max=log10res0max, \n",
    "                                      value=res0_default, description=\"Resistivity (res0)\")\n",
    "con8_slider = ipywidgets.FloatLogSlider(base=10, min=log10con8min, max=log10con8max, \n",
    "                                      value=con8_default, description=\"Conductivity (con8)\")\n",
    "eta_slider = ipywidgets.FloatSlider(min=0, max=1, step=0.01, \n",
    "                                  value=eta_default, description=\"eta\")\n",
    "tau_slider = ipywidgets.FloatLogSlider(base=10, min=log10taumin, max=log10taumax, \n",
    "                                     value=tau_default, description=\"tau\")\n",
    "c_slider = ipywidgets.FloatSlider(min=0, max=1, step=0.01, \n",
    "                                value=c_default, description=\"c\")\n",
    "# Use interactive display based on the toggle selection\n",
    "def update_sliders(mode):\n",
    "    if mode == \"Resistivity\":\n",
    "        display(res0_slider, eta_slider, tau_slider, c_slider)\n",
    "    else:\n",
    "        display(con8_slider, eta_slider, tau_slider, c_slider)\n",
    "\n",
    "ipywidgets.widgets.interactive_output(update_sliders, {'mode': conductivity_or_resistivity})\n",
    "ipywidgets.widgets.interactive(\n",
    "    plot_fft_widget,\n",
    "    conductivity_or_resistivity=conductivity_or_resistivity,\n",
    "    res0=res0_slider,\n",
    "    con8=con8_slider,\n",
    "    eta=eta_slider,\n",
    "    tau=tau_slider,\n",
    "    c=c_slider,\n",
    ")"
   ]
  },
  {
   "cell_type": "markdown",
   "metadata": {},
   "source": [
    "# Convolve with rectangular wave"
   ]
  },
  {
   "cell_type": "code",
   "execution_count": 11,
   "metadata": {},
   "outputs": [],
   "source": [
    "res0, eta, tau, c = 0.15, 0.3,  1e-3, 0.8\n",
    "con8 = 1/(res0*(1-eta))\n",
    "IPmodel = InducedPolarization(con8=con8, res0=res0,eta=eta, tau=tau, c=c)"
   ]
  },
  {
   "cell_type": "code",
   "execution_count": 12,
   "metadata": {},
   "outputs": [],
   "source": [
    "## Prepare function for waveform\n",
    "def rect_wave(t, basefrq, neg=False):\n",
    "    if neg:\n",
    "        pos= 0.5*(1.0+signal.square(2*np.pi*(basefrq*t    ),duty=0.25))\n",
    "        neg=-0.5*(1.0+signal.square(2*np.pi*(basefrq*t+0.5),duty=0.25))\n",
    "        return pos + neg\n",
    "    else :\n",
    "        pos= 0.5*(1.0+signal.square(2*np.pi*(basefrq*t    ),duty=0.5))\n",
    "        return pos\n"
   ]
  },
  {
   "cell_type": "code",
   "execution_count": 13,
   "metadata": {},
   "outputs": [
    {
     "data": {
      "text/plain": [
       "<matplotlib.legend.Legend at 0x1cb327802b0>"
      ]
     },
     "execution_count": 13,
     "metadata": {},
     "output_type": "execute_result"
    },
    {
     "data": {
      "image/png": "[encoded data removed]",
      "text/plain": [
       "<Figure size 640x480 with 1 Axes>"
      ]
     },
     "metadata": {},
     "output_type": "display_data"
    }
   ],
   "source": [
    "basefrq = 0.125\n",
    "time_end = 1/basefrq\n",
    "time_step = time_end/1000\n",
    "times_smp = np.arange(0, time_end, time_step)\n",
    "signal_smp = rect_wave(times_smp, basefrq)\n",
    "plt.plot(times_smp,rect_wave(t=times_smp,basefrq=basefrq),label='positive only')\n",
    "#plt.plot(times_smp,rect_wave(t=times_smp,basefrq=basefrq,neg=True),'--',label='Alternating')\n",
    "plt.grid()\n",
    "plt.legend()"
   ]
  },
  {
   "cell_type": "code",
   "execution_count": 14,
   "metadata": {},
   "outputs": [],
   "source": [
    "def cnv_trans(basefrq, con_form=False,con8=con8, res0=None,eta=None, tau=None, c=None):\n",
    "    baseperiod = 1/basefrq\n",
    "    freq_tau=IPmodel.get_frequency_tau(tau=tau,log2nfreq=20)\n",
    "    times_tau, data_tau = IPmodel.pelton_fft(con_form=con_form, freq=freq_tau,\n",
    "            con8=con8,res0=res0,eta=eta,tau=tau, c=c)\n",
    "    times_tau = times_tau[times_tau <= baseperiod]\n",
    "    ntime = len(times_tau)\n",
    "    time_step = times_tau[1] - times_tau[0]\n",
    "    data_tau = data_tau[:ntime] *time_step\n",
    "    signal_smp = rect_wave(t=times_tau, basefrq=basefrq)\n",
    "    obs_smp = np.convolve(signal_smp, data_tau, mode='full')[:ntime]\n",
    "    return times_tau, obs_smp"
   ]
  },
  {
   "cell_type": "code",
   "execution_count": 15,
   "metadata": {},
   "outputs": [],
   "source": [
    "def cnv_trans_time(basefrq,time_smp, con_form=False, res0=None,con8=con8,eta=None, tau=None, c=None):\n",
    "    freq_tau_time =IPmodel.get_frequency_tau_times(tau=tau, times=time_smp)\n",
    "    times_tau_time, data_tau_time = IPmodel.pelton_fft(con_form=con_form\n",
    "        , freq=freq_tau_time,con8=con8, res0=res0,eta=eta,tau=tau, c=c)\n",
    "    time_step = times_tau_time[1] - times_tau_time[0]\n",
    "    data_tau_time *= time_step\n",
    "    ntime = len(times_tau_time)\n",
    "    signal_smp = rect_wave(times_tau_time, basefrq)\n",
    "    obs_smp = np.convolve(signal_smp, data_tau_time, mode='full')[:ntime]\n",
    "    window_data = IPmodel.apply_windows(times=times_tau_time, data=obs_smp)\n",
    "    return window_data #,times_tau_time, obs_smp"
   ]
  },
  {
   "cell_type": "code",
   "execution_count": 16,
   "metadata": {},
   "outputs": [
    {
     "name": "stdout",
     "output_type": "stream",
     "text": [
      "basefrq:    125.00\n",
      "log2(len(freq)) 20.0 considering tau\n",
      "81921 81921\n",
      "end   of on-time  res0   1.49e-01\n",
      "start of off-time res8   4.41e-02\n",
      "eta calculated           2.95e-01\n",
      "eta given                3.00e-01\n"
     ]
    }
   ],
   "source": [
    "res0, eta, tau, c = 0.15, 0.3,  1e-4, 0.8\n",
    "con8 = 1/(res0*(1-eta))\n",
    "basefrq = 125 #bfrq_tau*tau*float(ntime)\n",
    "print(f'basefrq:{basefrq:10.2f}')\n",
    "time_obs, data_obs = cnv_trans(basefrq=basefrq,\n",
    "        con_form=False,res0=res0, eta=eta, tau=tau, c=c)\n",
    "print(len(time_obs), len(data_obs))\n",
    "hlf = int(len(time_obs))//2\n",
    "print(f'end   of on-time  res0 {data_obs[hlf-1]:10.2e}')\n",
    "print(f'start of off-time res8 {data_obs[hlf+1]:10.2e}')\n",
    "print(f'eta calculated         {(data_obs[hlf+1]/data_obs[hlf-1]):10.2e}')\n",
    "print(f'eta given              {eta:10.2e}')"
   ]
  },
  {
   "cell_type": "code",
   "execution_count": 17,
   "metadata": {},
   "outputs": [
    {
     "data": {
      "text/plain": [
       "<matplotlib.legend.Legend at 0x1cb327487c0>"
      ]
     },
     "execution_count": 17,
     "metadata": {},
     "output_type": "execute_result"
    },
    {
     "data": {
      "image/png": "[encoded data removed]",
      "text/plain": [
       "<Figure size 640x480 with 1 Axes>"
      ]
     },
     "metadata": {},
     "output_type": "display_data"
    }
   ],
   "source": [
    "plt.plot(time_obs, data_obs)\n",
    "plt.axvline(0.5/basefrq, color='k', linestyle='--', label='end of the signal')\n",
    "plt.axhline(data_obs[-hlf], color='r', linestyle='--', label='start of the signal')\n",
    "nxzoom = 1000\n",
    "plt.xlim([time_obs[hlf-nxzoom],time_obs[-hlf+nxzoom]])\n",
    "plt.ylim(bottom=0)\n",
    "plt.grid()\n",
    "plt.legend()"
   ]
  },
  {
   "cell_type": "code",
   "execution_count": 18,
   "metadata": {},
   "outputs": [],
   "source": [
    "def plot_dcip(basefrq,nxzoom=100,con_form=False\n",
    "        ,con8=None,res0=None,eta=None,tau=None,c=None,ax=None):\n",
    "    if ax is None:\n",
    "        fig, ax = plt.subplots(2,1, figsize=(8, 6))\n",
    "    time_obs, data_obs = cnv_trans(basefrq=basefrq,\n",
    "        con_form=con_form,con8=con8,res0=res0, eta=eta, tau=tau, c=c)\n",
    "    hlf = int(len(time_obs))//2\n",
    "    eta_est = data_obs[hlf+1]/data_obs[hlf-1]\n",
    "    ntime = len(time_obs)\n",
    "    ax[0].plot(time_obs, data_obs)\n",
    "    ax[0].set_title(f'''res0={res0   :10.2e},eta given={eta    :8.3f},  tau={tau:10.2e}, c={c:8.3f}\n",
    "    bfrq={basefrq:10.2f},eta est  ={eta_est:8.3f},ntime={ntime:8.0f},zoom={nxzoom:8.0f}''')         \n",
    "    ind_plot = slice(hlf-nxzoom,hlf+nxzoom)\n",
    "    ax[1].plot(time_obs[ind_plot], data_obs[ind_plot])\n",
    "    for a in ax:\n",
    "        a.axvline(0.5/basefrq, color='k', linestyle='--', label='on time end')\n",
    "        a.axhline(data_obs[-hlf], color='r', linestyle='--', label='amp at start start of decay')\n",
    "        a.set_ylim(bottom=0)\n",
    "        a.grid()\n",
    "        a.legend()"
   ]
  },
  {
   "cell_type": "code",
   "execution_count": 19,
   "metadata": {},
   "outputs": [],
   "source": [
    "log10bfrqmin, log10bfrqmax = -1, 2\n",
    "res0_default, eta_default, tau_default, c_default = 0.15, 0.3, 1e-3, 0.8\n",
    "con8_default = 1 / (res0_default * (1 - eta_default))\n",
    "basefrq_default = int(1/(tau_default))"
   ]
  },
  {
   "cell_type": "code",
   "execution_count": 20,
   "metadata": {},
   "outputs": [
    {
     "data": {
      "application/vnd.jupyter.widget-view+json": {
       "model_id": "013e4b881ce24e66becc24fe5550b3a3",
       "version_major": 2,
       "version_minor": 0
      },
      "text/plain": [
       "VBox(children=(FloatLogSlider(value=100.0, description='Base Frequency', max=2.0, min=-1.0), FloatLogSlider(va…"
      ]
     },
     "metadata": {},
     "output_type": "display_data"
    },
    {
     "data": {
      "application/vnd.jupyter.widget-view+json": {
       "model_id": "6fff2f29aacf4f1fb119398efb65cada",
       "version_major": 2,
       "version_minor": 0
      },
      "text/plain": [
       "Output()"
      ]
     },
     "metadata": {},
     "output_type": "display_data"
    }
   ],
   "source": [
    "#  Widget for the main function\n",
    "def plot_dcip_widget(basefrq,nxzoom, res0=None, con8=None, eta=None, tau=None, c=None):\n",
    "    # Use default values if not provided\n",
    "    res0 = res0 if res0 is not None else res0_default\n",
    "    con8 = con8 if con8 is not None else con8_default\n",
    "    eta = eta if eta is not None else eta_default\n",
    "    tau = tau if tau is not None else tau_default\n",
    "    c = c if c is not None else c_default\n",
    "    fig, ax = plt.subplots(2, 1, figsize=(8, 6))\n",
    "    plot_dcip(basefrq=basefrq,nxzoom=nxzoom, con_form=False,res0=res0, eta=eta, tau=tau, c=c, ax=ax)\n",
    "    plt.tight_layout()\n",
    "    plt.show()\n",
    "\n",
    "basefrq_slider = ipywidgets.IntSlider(base=10, min=log10bfrqmin, max=log10bfrqmax,\n",
    "                                        value=basefrq_default, description=\"Base Frequency\")\n",
    "basefrq_slider = ipywidgets.FloatLogSlider(base=10, min=log10bfrqmin, max=log10bfrqmax, \n",
    "                                        value=basefrq_default, description=\"Base Frequency\")\n",
    "res0_slider = ipywidgets.FloatLogSlider(base=10, min=log10res0min, max=log10res0max, \n",
    "                                      value=res0_default, description=\"Resistivity (res0)\")\n",
    "con8_slider = ipywidgets.FloatLogSlider(base=10, min=log10con8min, max=log10con8max, \n",
    "                                      value=con8_default, description=\"Conductivity (con8)\")\n",
    "eta_slider = ipywidgets.FloatSlider(min=0, max=1, step=0.01, \n",
    "                                  value=eta_default, description=\"eta\")\n",
    "tau_slider = ipywidgets.FloatLogSlider(base=10, min=log10taumin, max=log10taumax, \n",
    "                                     value=tau_default, description=\"tau\")\n",
    "c_slider = ipywidgets.FloatSlider(min=0, max=1, step=0.01, \n",
    "                                value=c_default, description=\"c\")\n",
    "nxzoom_slider = ipywidgets.IntSlider(min=10, max=1000, step=10, \n",
    "                                  value=100, description=\"Zoom\")\n",
    "\n",
    "interactive_output_widget = ipywidgets.interactive_output(\n",
    "    plot_dcip_widget,\n",
    "    {\n",
    "        \"basefrq\": basefrq_slider,\n",
    "        \"res0\": res0_slider,\n",
    "        \"con8\": con8_slider,\n",
    "        \"eta\": eta_slider,\n",
    "        \"tau\": tau_slider,\n",
    "        \"c\": c_slider,\n",
    "        \"nxzoom\": nxzoom_slider,\n",
    "    }\n",
    ")\n",
    "# Display sliders and output\n",
    "ui = ipywidgets.VBox([\n",
    "    basefrq_slider, \n",
    "    res0_slider, \n",
    "    con8_slider, \n",
    "    eta_slider, \n",
    "    tau_slider, \n",
    "    c_slider, \n",
    "    nxzoom_slider\n",
    "])\n",
    "display(ui, interactive_output_widget)"
   ]
  },
  {
   "cell_type": "code",
   "execution_count": null,
   "metadata": {},
   "outputs": [],
   "source": []
  }
 ],
 "metadata": {
  "kernelspec": {
   "display_name": "Python 3",
   "language": "python",
   "name": "python3"
  },
  "language_info": {
   "codemirror_mode": {
    "name": "ipython",
    "version": 3
   },
   "file_extension": ".py",
   "mimetype": "text/x-python",
   "name": "python",
   "nbconvert_exporter": "python",
   "pygments_lexer": "ipython3",
   "version": "3.9.19"
  }
 },
 "nbformat": 4,
 "nbformat_minor": 2
}
